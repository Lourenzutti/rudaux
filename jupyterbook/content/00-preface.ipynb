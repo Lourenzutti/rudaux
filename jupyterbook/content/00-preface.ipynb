{
 "cells": [
  {
   "cell_type": "markdown",
   "metadata": {},
   "source": [
    "(00-welcome)=\\n\n",
    "# Welcome to Rudaux!"
   ]
  },
  {
   "cell_type": "markdown",
   "metadata": {},
   "source": [
    "[Tiffany Timbers](http://tiffanytimbers.com)"
   ]
  },
  {
   "cell_type": "markdown",
   "metadata": {},
   "source": [
    "This book documents how to set up a course where students complete homework on a JupyterHub server that they access via a course management system (via LTI authentication), and homework is graded via nbgrader (which has both manual and autograding capabilities). Grades are posted to the course management system. In its current implementation these docs support only the Canvas course management system, but they could easily be extended to other platforms that use LTI and that have a gradebook API."
   ]
  },
  {
   "cell_type": "markdown",
   "metadata": {},
   "source": [
    "{figure} ../img/rudaux_jupiter.jpg\n",
    "---\n",
    "height: 300px,\n",
    "name: Jupiter,\n",
    "---\n",
    "\"Jupiter Seen from Io\" by Lucien Rudaux"
   ]
  }
 ],
 "metadata": {
  "kernelspec": {
   "display_name": "Python 3",
   "language": "python",
   "name": "python3"
  },
  "language_info": {
   "codemirror_mode": {
    "name": "ipython",
    "version": 3
   },
   "file_extension": ".py",
   "mimetype": "text/x-python",
   "name": "python",
   "nbconvert_exporter": "python",
   "pygments_lexer": "ipython3",
   "version": "3.7.6"
  }
 },
 "nbformat": 4,
 "nbformat_minor": 4
}
