{
 "cells": [
  {
   "cell_type": "markdown",
   "metadata": {},
   "source": [
    "# Course Infrastructure"
   ]
  },
  {
   "cell_type": "markdown",
   "metadata": {},
   "source": [
    "### Inventory list\n",
    "- Canvas course shell\n",
    "- Two JupyterHub servers (each running on an AWS EC2 instance)\n",
    "- Rudaux to build the JupyterHubs and connect the above"
   ]
  },
  {
   "cell_type": "markdown",
   "metadata": {},
   "source": [
    "## Building JupyterHub servers"
   ]
  },
  {
   "cell_type": "markdown",
   "metadata": {},
   "source": [
    "### Installation setup\n",
    "1. Install Ansible on your local computer following these directions: https://docs.ansible.com/ansible/latest/installation_guide/intro_installation.html#installation-guide"
   ]
  },
  {
   "cell_type": "markdown",
   "metadata": {},
   "source": [
    "2. Set-up two EC2 instances as documented here: http://tljh.jupyter.org/en/latest/install/amazon.html (note: abstract this to AWS CLI command). Add the ansible machine's (e.g., your laptop's) public key to `~/.ssh/authorized_keys` on the EC2 instances."
   ]
  },
  {
   "cell_type": "markdown",
   "metadata": {},
   "source": [
    "3. Copy the EC2 public IP addresses into `ansible.cfg` replacing `<STUDENT_HUB_IP>` and `<GRADING_HUB_IP>` respectively."
   ]
  }
 ],
 "metadata": {
  "kernelspec": {
   "display_name": "Python 3",
   "language": "python",
   "name": "python3"
  },
  "language_info": {
   "codemirror_mode": {
    "name": "ipython",
    "version": 3
   },
   "file_extension": ".py",
   "mimetype": "text/x-python",
   "name": "python",
   "nbconvert_exporter": "python",
   "pygments_lexer": "ipython3",
   "version": "3.7.6"
  }
 },
 "nbformat": 4,
 "nbformat_minor": 4
}
